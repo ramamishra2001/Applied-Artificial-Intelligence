{
  "cells": [
    {
      "cell_type": "code",
      "execution_count": 81,
      "metadata": {},
      "outputs": [],
      "source": [
        "# importing the required libraries\n",
        "import pandas as pd\n",
        "import numpy as np\n",
        "from sklearn.model_selection import train_test_split, GridSearchCV\n",
        "from sklearn.preprocessing import StandardScaler, LabelEncoder, OneHotEncoder\n",
        "from sklearn.compose import ColumnTransformer\n",
        "from sklearn.pipeline import Pipeline\n",
        "from sklearn.tree import DecisionTreeClassifier\n",
        "from sklearn.metrics import accuracy_score, classification_report, confusion_matrix, f1_score, precision_score, recall_score\n",
        "from sklearn.cluster import KMeans\n",
        "from sklearn.metrics import adjusted_rand_score\n",
        "import tensorflow as tf\n",
        "from tensorflow.keras.models import Sequential\n",
        "from tensorflow.keras.layers import Dense, Conv1D, MaxPooling1D, Flatten\n",
        "from tensorflow.keras.utils import to_categorical\n",
        "from imblearn.over_sampling import SMOTE\n",
        "import matplotlib.pyplot as plt\n",
        "import seaborn as sns"
      ]
    },
    {
      "cell_type": "code",
      "execution_count": 82,
      "metadata": {},
      "outputs": [],
      "source": [
        "# ignore warnings if any occur\n",
        "import warnings\n",
        "warnings.filterwarnings('ignore')"
      ]
    },
    {
      "cell_type": "code",
      "execution_count": 83,
      "metadata": {},
      "outputs": [
        {
          "data": {
            "text/html": [
              "<div>\n",
              "<style scoped>\n",
              "    .dataframe tbody tr th:only-of-type {\n",
              "        vertical-align: middle;\n",
              "    }\n",
              "\n",
              "    .dataframe tbody tr th {\n",
              "        vertical-align: top;\n",
              "    }\n",
              "\n",
              "    .dataframe thead th {\n",
              "        text-align: right;\n",
              "    }\n",
              "</style>\n",
              "<table border=\"1\" class=\"dataframe\">\n",
              "  <thead>\n",
              "    <tr style=\"text-align: right;\">\n",
              "      <th></th>\n",
              "      <th>Temperature (K)</th>\n",
              "      <th>Luminosity(L/Lo)</th>\n",
              "      <th>Radius(R/Ro)</th>\n",
              "      <th>Absolute magnitude(Mv)</th>\n",
              "      <th>Star type</th>\n",
              "      <th>Star color</th>\n",
              "      <th>Spectral Class</th>\n",
              "    </tr>\n",
              "  </thead>\n",
              "  <tbody>\n",
              "    <tr>\n",
              "      <th>0</th>\n",
              "      <td>3068</td>\n",
              "      <td>0.002400</td>\n",
              "      <td>0.1700</td>\n",
              "      <td>16.12</td>\n",
              "      <td>0</td>\n",
              "      <td>Red</td>\n",
              "      <td>M</td>\n",
              "    </tr>\n",
              "    <tr>\n",
              "      <th>1</th>\n",
              "      <td>3042</td>\n",
              "      <td>0.000500</td>\n",
              "      <td>0.1542</td>\n",
              "      <td>16.60</td>\n",
              "      <td>0</td>\n",
              "      <td>Red</td>\n",
              "      <td>M</td>\n",
              "    </tr>\n",
              "    <tr>\n",
              "      <th>2</th>\n",
              "      <td>2600</td>\n",
              "      <td>0.000300</td>\n",
              "      <td>0.1020</td>\n",
              "      <td>18.70</td>\n",
              "      <td>0</td>\n",
              "      <td>Red</td>\n",
              "      <td>M</td>\n",
              "    </tr>\n",
              "    <tr>\n",
              "      <th>3</th>\n",
              "      <td>2800</td>\n",
              "      <td>0.000200</td>\n",
              "      <td>0.1600</td>\n",
              "      <td>16.65</td>\n",
              "      <td>0</td>\n",
              "      <td>Red</td>\n",
              "      <td>M</td>\n",
              "    </tr>\n",
              "    <tr>\n",
              "      <th>4</th>\n",
              "      <td>1939</td>\n",
              "      <td>0.000138</td>\n",
              "      <td>0.1030</td>\n",
              "      <td>20.06</td>\n",
              "      <td>0</td>\n",
              "      <td>Red</td>\n",
              "      <td>M</td>\n",
              "    </tr>\n",
              "  </tbody>\n",
              "</table>\n",
              "</div>"
            ],
            "text/plain": [
              "   Temperature (K)  Luminosity(L/Lo)  Radius(R/Ro)  Absolute magnitude(Mv)  \\\n",
              "0             3068          0.002400        0.1700                   16.12   \n",
              "1             3042          0.000500        0.1542                   16.60   \n",
              "2             2600          0.000300        0.1020                   18.70   \n",
              "3             2800          0.000200        0.1600                   16.65   \n",
              "4             1939          0.000138        0.1030                   20.06   \n",
              "\n",
              "   Star type Star color Spectral Class  \n",
              "0          0        Red              M  \n",
              "1          0        Red              M  \n",
              "2          0        Red              M  \n",
              "3          0        Red              M  \n",
              "4          0        Red              M  "
            ]
          },
          "execution_count": 83,
          "metadata": {},
          "output_type": "execute_result"
        }
      ],
      "source": [
        "# Load the dataset\n",
        "data = pd.read_csv('stars_data.csv')\n",
        "data.head(5)"
      ]
    },
    {
      "cell_type": "markdown",
      "metadata": {},
      "source": [
        "#### Data Visualisation"
      ]
    },
    {
      "cell_type": "code",
      "execution_count": 84,
      "metadata": {},
      "outputs": [
        {
          "data": {
            "text/plain": [
              "(240, 7)"
            ]
          },
          "execution_count": 84,
          "metadata": {},
          "output_type": "execute_result"
        }
      ],
      "source": [
        "# checking shape of the dataset\n",
        "data.shape"
      ]
    },
    {
      "cell_type": "code",
      "execution_count": 85,
      "metadata": {},
      "outputs": [
        {
          "data": {
            "text/plain": [
              "Index(['Temperature (K)', 'Luminosity(L/Lo)', 'Radius(R/Ro)',\n",
              "       'Absolute magnitude(Mv)', 'Star type', 'Star color', 'Spectral Class'],\n",
              "      dtype='object')"
            ]
          },
          "execution_count": 85,
          "metadata": {},
          "output_type": "execute_result"
        }
      ],
      "source": [
        "# columns for dataset\n",
        "data.columns"
      ]
    },
    {
      "cell_type": "code",
      "execution_count": 86,
      "metadata": {},
      "outputs": [
        {
          "data": {
            "text/html": [
              "<div>\n",
              "<style scoped>\n",
              "    .dataframe tbody tr th:only-of-type {\n",
              "        vertical-align: middle;\n",
              "    }\n",
              "\n",
              "    .dataframe tbody tr th {\n",
              "        vertical-align: top;\n",
              "    }\n",
              "\n",
              "    .dataframe thead th {\n",
              "        text-align: right;\n",
              "    }\n",
              "</style>\n",
              "<table border=\"1\" class=\"dataframe\">\n",
              "  <thead>\n",
              "    <tr style=\"text-align: right;\">\n",
              "      <th></th>\n",
              "      <th>Temperature (K)</th>\n",
              "      <th>Luminosity(L/Lo)</th>\n",
              "      <th>Radius(R/Ro)</th>\n",
              "      <th>Absolute magnitude(Mv)</th>\n",
              "      <th>Star type</th>\n",
              "    </tr>\n",
              "  </thead>\n",
              "  <tbody>\n",
              "    <tr>\n",
              "      <th>count</th>\n",
              "      <td>240.000000</td>\n",
              "      <td>240.000000</td>\n",
              "      <td>240.000000</td>\n",
              "      <td>240.000000</td>\n",
              "      <td>240.000000</td>\n",
              "    </tr>\n",
              "    <tr>\n",
              "      <th>mean</th>\n",
              "      <td>10497.462500</td>\n",
              "      <td>107188.361635</td>\n",
              "      <td>237.157781</td>\n",
              "      <td>4.382396</td>\n",
              "      <td>2.500000</td>\n",
              "    </tr>\n",
              "    <tr>\n",
              "      <th>std</th>\n",
              "      <td>9552.425037</td>\n",
              "      <td>179432.244940</td>\n",
              "      <td>517.155763</td>\n",
              "      <td>10.532512</td>\n",
              "      <td>1.711394</td>\n",
              "    </tr>\n",
              "    <tr>\n",
              "      <th>min</th>\n",
              "      <td>1939.000000</td>\n",
              "      <td>0.000080</td>\n",
              "      <td>0.008400</td>\n",
              "      <td>-11.920000</td>\n",
              "      <td>0.000000</td>\n",
              "    </tr>\n",
              "    <tr>\n",
              "      <th>25%</th>\n",
              "      <td>3344.250000</td>\n",
              "      <td>0.000865</td>\n",
              "      <td>0.102750</td>\n",
              "      <td>-6.232500</td>\n",
              "      <td>1.000000</td>\n",
              "    </tr>\n",
              "    <tr>\n",
              "      <th>50%</th>\n",
              "      <td>5776.000000</td>\n",
              "      <td>0.070500</td>\n",
              "      <td>0.762500</td>\n",
              "      <td>8.313000</td>\n",
              "      <td>2.500000</td>\n",
              "    </tr>\n",
              "    <tr>\n",
              "      <th>75%</th>\n",
              "      <td>15055.500000</td>\n",
              "      <td>198050.000000</td>\n",
              "      <td>42.750000</td>\n",
              "      <td>13.697500</td>\n",
              "      <td>4.000000</td>\n",
              "    </tr>\n",
              "    <tr>\n",
              "      <th>max</th>\n",
              "      <td>40000.000000</td>\n",
              "      <td>849420.000000</td>\n",
              "      <td>1948.500000</td>\n",
              "      <td>20.060000</td>\n",
              "      <td>5.000000</td>\n",
              "    </tr>\n",
              "  </tbody>\n",
              "</table>\n",
              "</div>"
            ],
            "text/plain": [
              "       Temperature (K)  Luminosity(L/Lo)  Radius(R/Ro)  \\\n",
              "count       240.000000        240.000000    240.000000   \n",
              "mean      10497.462500     107188.361635    237.157781   \n",
              "std        9552.425037     179432.244940    517.155763   \n",
              "min        1939.000000          0.000080      0.008400   \n",
              "25%        3344.250000          0.000865      0.102750   \n",
              "50%        5776.000000          0.070500      0.762500   \n",
              "75%       15055.500000     198050.000000     42.750000   \n",
              "max       40000.000000     849420.000000   1948.500000   \n",
              "\n",
              "       Absolute magnitude(Mv)   Star type  \n",
              "count              240.000000  240.000000  \n",
              "mean                 4.382396    2.500000  \n",
              "std                 10.532512    1.711394  \n",
              "min                -11.920000    0.000000  \n",
              "25%                 -6.232500    1.000000  \n",
              "50%                  8.313000    2.500000  \n",
              "75%                 13.697500    4.000000  \n",
              "max                 20.060000    5.000000  "
            ]
          },
          "execution_count": 86,
          "metadata": {},
          "output_type": "execute_result"
        }
      ],
      "source": [
        "# statistics of the dataset\n",
        "data.describe()"
      ]
    },
    {
      "cell_type": "code",
      "execution_count": 87,
      "metadata": {},
      "outputs": [
        {
          "data": {
            "text/plain": [
              "Temperature (K)           0\n",
              "Luminosity(L/Lo)          0\n",
              "Radius(R/Ro)              0\n",
              "Absolute magnitude(Mv)    0\n",
              "Star type                 0\n",
              "Star color                0\n",
              "Spectral Class            0\n",
              "dtype: int64"
            ]
          },
          "execution_count": 87,
          "metadata": {},
          "output_type": "execute_result"
        }
      ],
      "source": [
        "data.isnull().sum()"
      ]
    },
    {
      "cell_type": "code",
      "execution_count": 88,
      "metadata": {},
      "outputs": [
        {
          "data": {
            "text/plain": [
              "Temperature (K)           0\n",
              "Luminosity(L/Lo)          0\n",
              "Radius(R/Ro)              0\n",
              "Absolute magnitude(Mv)    0\n",
              "Star type                 0\n",
              "Star color                0\n",
              "Spectral Class            0\n",
              "dtype: int64"
            ]
          },
          "execution_count": 88,
          "metadata": {},
          "output_type": "execute_result"
        }
      ],
      "source": [
        "data.isna().sum()"
      ]
    },
    {
      "cell_type": "code",
      "execution_count": 89,
      "metadata": {},
      "outputs": [
        {
          "data": {
            "text/plain": [
              "Temperature (K)           228\n",
              "Luminosity(L/Lo)          208\n",
              "Radius(R/Ro)              216\n",
              "Absolute magnitude(Mv)    228\n",
              "Star type                   6\n",
              "Star color                 19\n",
              "Spectral Class              7\n",
              "dtype: int64"
            ]
          },
          "execution_count": 89,
          "metadata": {},
          "output_type": "execute_result"
        }
      ],
      "source": [
        "data.nunique()"
      ]
    },
    {
      "cell_type": "code",
      "execution_count": 90,
      "metadata": {},
      "outputs": [
        {
          "name": "stdout",
          "output_type": "stream",
          "text": [
            "<class 'pandas.core.frame.DataFrame'>\n",
            "RangeIndex: 240 entries, 0 to 239\n",
            "Data columns (total 7 columns):\n",
            " #   Column                  Non-Null Count  Dtype  \n",
            "---  ------                  --------------  -----  \n",
            " 0   Temperature (K)         240 non-null    int64  \n",
            " 1   Luminosity(L/Lo)        240 non-null    float64\n",
            " 2   Radius(R/Ro)            240 non-null    float64\n",
            " 3   Absolute magnitude(Mv)  240 non-null    float64\n",
            " 4   Star type               240 non-null    int64  \n",
            " 5   Star color              240 non-null    object \n",
            " 6   Spectral Class          240 non-null    object \n",
            "dtypes: float64(3), int64(2), object(2)\n",
            "memory usage: 13.2+ KB\n"
          ]
        }
      ],
      "source": [
        "data.info()"
      ]
    },
    {
      "cell_type": "markdown",
      "metadata": {},
      "source": [
        "#### Target class"
      ]
    },
    {
      "cell_type": "code",
      "execution_count": 91,
      "metadata": {},
      "outputs": [
        {
          "data": {
            "text/plain": [
              "M    111\n",
              "B     46\n",
              "O     40\n",
              "A     19\n",
              "F     17\n",
              "K      6\n",
              "G      1\n",
              "Name: Spectral Class, dtype: int64"
            ]
          },
          "execution_count": 91,
          "metadata": {},
          "output_type": "execute_result"
        }
      ],
      "source": [
        "data['Spectral Class'].value_counts()"
      ]
    },
    {
      "cell_type": "code",
      "execution_count": 92,
      "metadata": {},
      "outputs": [
        {
          "data": {
            "image/png": "[encoded data removed]",
            "text/plain": [
              "<Figure size 1500x600 with 1 Axes>"
            ]
          },
          "metadata": {},
          "output_type": "display_data"
        }
      ],
      "source": [
        "plt.figure(figsize=(15,6))\n",
        "sns.countplot(data,x=data['Spectral Class'],\n",
        "               palette = 'hls')\n",
        "plt.xticks(rotation = 0)\n",
        "plt.show()"
      ]
    },
    {
      "cell_type": "code",
      "execution_count": 93,
      "metadata": {},
      "outputs": [
        {
          "data": {
            "image/png": "[encoded data removed]",
            "text/plain": [
              "<Figure size 1000x1000 with 1 Axes>"
            ]
          },
          "metadata": {},
          "output_type": "display_data"
        }
      ],
      "source": [
        "plt.figure(figsize=(10, 10))\n",
        "counts = data['Spectral Class'].value_counts()\n",
        "plt.pie(counts, labels=counts.index, autopct='%1.1f%%', colors=sns.color_palette('hls'))\n",
        "plt.title('Class')\n",
        "plt.show()"
      ]
    },
    {
      "cell_type": "markdown",
      "metadata": {},
      "source": [
        "#### We can see there is imbalance in the dataset. Class G has only one data sample in it's class. So we will deal with it using the SMOTE technique later in the code."
      ]
    },
    {
      "cell_type": "code",
      "execution_count": 94,
      "metadata": {},
      "outputs": [
        {
          "data": {
            "text/plain": [
              "M    111\n",
              "B     46\n",
              "O     40\n",
              "A     19\n",
              "F     17\n",
              "K      6\n",
              "G      1\n",
              "Name: Spectral Class, dtype: int64"
            ]
          },
          "execution_count": 94,
          "metadata": {},
          "output_type": "execute_result"
        }
      ],
      "source": [
        "class_counts = data['Spectral Class'].value_counts()\n",
        "class_counts"
      ]
    },
    {
      "cell_type": "markdown",
      "metadata": {},
      "source": [
        "#### Before removing the Class G, the count of all classes look like the following"
      ]
    },
    {
      "cell_type": "code",
      "execution_count": 95,
      "metadata": {},
      "outputs": [
        {
          "data": {
            "image/png": "[encoded data removed]",
            "text/plain": [
              "<Figure size 1000x600 with 1 Axes>"
            ]
          },
          "metadata": {},
          "output_type": "display_data"
        }
      ],
      "source": [
        "# Plotting class distribution before removal\n",
        "plt.figure(figsize=(10, 6))\n",
        "sns.barplot(x=class_counts.index, y=class_counts.values, palette='viridis')\n",
        "plt.title('Class Distribution Before Removal')\n",
        "plt.xlabel('Spectral Class')\n",
        "plt.ylabel('Count')\n",
        "plt.show()\n"
      ]
    },
    {
      "cell_type": "code",
      "execution_count": 96,
      "metadata": {},
      "outputs": [],
      "source": [
        "# Removing classes with less than 2 samples\n",
        "min_samples = 2\n",
        "classes_to_keep = class_counts[class_counts >= min_samples].index\n",
        "data = data[data['Spectral Class'].isin(classes_to_keep)]"
      ]
    },
    {
      "cell_type": "markdown",
      "metadata": {},
      "source": [
        "#### After removing the Class G, the count of all classes look like the following"
      ]
    },
    {
      "cell_type": "code",
      "execution_count": 97,
      "metadata": {},
      "outputs": [
        {
          "data": {
            "text/plain": [
              "M    111\n",
              "B     46\n",
              "O     40\n",
              "A     19\n",
              "F     17\n",
              "K      6\n",
              "Name: Spectral Class, dtype: int64"
            ]
          },
          "execution_count": 97,
          "metadata": {},
          "output_type": "execute_result"
        }
      ],
      "source": [
        "# Checking class distribution after removal\n",
        "class_counts_after = data['Spectral Class'].value_counts()\n",
        "class_counts_after"
      ]
    },
    {
      "cell_type": "code",
      "execution_count": 98,
      "metadata": {},
      "outputs": [
        {
          "data": {
            "image/png": "[encoded data removed]",
            "text/plain": [
              "<Figure size 1000x600 with 1 Axes>"
            ]
          },
          "metadata": {},
          "output_type": "display_data"
        }
      ],
      "source": [
        "# Plotting class distribution after removal\n",
        "plt.figure(figsize=(10, 6))\n",
        "sns.barplot(x=class_counts_after.index, y=class_counts_after.values, palette='viridis')\n",
        "plt.title('Class Distribution After Removal')\n",
        "plt.xlabel('Spectral Class')\n",
        "plt.ylabel('Count')\n",
        "plt.show()"
      ]
    },
    {
      "cell_type": "code",
      "execution_count": 99,
      "metadata": {},
      "outputs": [],
      "source": [
        "# Encoding the target variable since it is categorical \n",
        "target_encoder = LabelEncoder()\n",
        "data['Spectral Class'] = target_encoder.fit_transform(data['Spectral Class'])"
      ]
    },
    {
      "cell_type": "code",
      "execution_count": 100,
      "metadata": {},
      "outputs": [],
      "source": [
        "# Defining the features and target\n",
        "X = data.drop('Spectral Class', axis=1)\n",
        "y = data['Spectral Class']\n"
      ]
    },
    {
      "cell_type": "code",
      "execution_count": 101,
      "metadata": {},
      "outputs": [],
      "source": [
        "# Identifying the categorical feature\n",
        "cat_features = ['Star color']"
      ]
    },
    {
      "cell_type": "markdown",
      "metadata": {},
      "source": [
        "### Preprocessing Pipeline\n",
        "\n",
        "The following code block makes use of a preprocessing pipeline using `ColumnTransformer`integrating two key transformations:\n",
        "\n",
        "- **Numerical Features Scaling**: Rescaling the numerical features with `StandardScaler` to achieve a mean of zero and variance of one benefits various machine learning algorithms, particularly those that rely on distance computations like K-means clustering and k-nearest neighbors.\n",
        "\n",
        "\n",
        "- **Categorical Features Encoding**: Utilizing `OneHotEncoder` to transform categorical features converting every category into a separate binary column, a requirement for models that need numeric input. The parameter `handle_unknown='ignore'` makes sure that unknown categories are considered uninformative during transformation, instead of triggering an error. \n",
        "\n",
        "These changes are essential in getting the dataset ready for successful model training by standardizing feature scales and converting categorical data into a format readable by machines. \n"
      ]
    },
    {
      "cell_type": "code",
      "execution_count": 102,
      "metadata": {},
      "outputs": [],
      "source": [
        "# Preprocessing pipeline for numeric and categorical features\n",
        "preprocessing_pipeline = ColumnTransformer(\n",
        "    transformers=[\n",
        "        ('num', StandardScaler(), X.select_dtypes(include=['float64', 'int64']).columns),\n",
        "        ('cat', OneHotEncoder(handle_unknown='ignore'), cat_features)\n",
        "    ])"
      ]
    },
    {
      "cell_type": "code",
      "execution_count": 103,
      "metadata": {},
      "outputs": [],
      "source": [
        "# Fit and transform the features\n",
        "X_processed = preprocessing_pipeline.fit_transform(X).toarray()  # Ensure the output is dense"
      ]
    },
    {
      "cell_type": "code",
      "execution_count": 104,
      "metadata": {},
      "outputs": [],
      "source": [
        "# Splitting the dataset into training and testing sets\n",
        "X_train, X_test, y_train, y_test = train_test_split(X_processed, y, test_size=0.3, random_state=42, stratify=y)"
      ]
    },
    {
      "cell_type": "markdown",
      "metadata": {},
      "source": [
        "### Handling Class Imbalance with SMOTE\n",
        "\n",
        "This section of the code is dedicated to solving the issue of imbalanced class distribution in our dataset. Unequal distribution of classes can affect the performance of machine learning models significantly,leading them to exhibit bias towards the dominant class, hence we utilize the Synthetic Minority Over-sampling Technique (SMOTE).\n",
        "SMOTE generates synthetic instances for the minority class to achieve class balance before model training. This procedure includes selecting samples close by in the feature space, linking them with a line, and generating a fresh sample at a position on that line.\n",
        "Create a new account to use the platform.\n",
        "- By setting `random_state=42`, the consistency of outcomes is ensured as it provides a fixed seed for producing random numbers.\n",
        "- `k_neighbors=1`: Specifies that the creation of synthetic samples should consider only one closest neighbor. This is particularly advantageous when minority groups have a small sample size.\n",
        "By utilizing SMOTE for data resampling, we enhance the model's ability to learn from an evenly distributed dataset, leading to improved generalization and reducing the risk of overfitting to the majority class. \n"
      ]
    },
    {
      "cell_type": "code",
      "execution_count": 105,
      "metadata": {},
      "outputs": [],
      "source": [
        "# Handling class imbalance using SMOTE with k_neighbors=1\n",
        "smote = SMOTE(random_state=42, k_neighbors=1)\n",
        "X_train_bal, y_train_bal = smote.fit_resample(X_train, y_train)"
      ]
    },
    {
      "cell_type": "markdown",
      "metadata": {},
      "source": [
        "### Re-encoding Labels\n",
        "\n",
        "We utilize `LabelEncoder` to change the balanced class labels into a format that is appropriate for training, ensuring that the same conversion is used on both the training and testing data to uphold consistency. \n"
      ]
    },
    {
      "cell_type": "code",
      "execution_count": 106,
      "metadata": {},
      "outputs": [],
      "source": [
        "# Re-encoding the balanced labels\n",
        "label_encoder_balancing = LabelEncoder()\n",
        "y_train_bal_encoded = label_encoder_balancing.fit_transform(y_train_bal)\n",
        "y_test_encoded = label_encoder_balancing.transform(y_test)"
      ]
    },
    {
      "cell_type": "code",
      "execution_count": 107,
      "metadata": {},
      "outputs": [
        {
          "data": {
            "text/plain": [
              "6"
            ]
          },
          "execution_count": 107,
          "metadata": {},
          "output_type": "execute_result"
        }
      ],
      "source": [
        "# Computing number of classes after re-encoding\n",
        "num_classes_balanced = len(label_encoder_balancing.classes_)\n",
        "num_classes_balanced"
      ]
    },
    {
      "cell_type": "markdown",
      "metadata": {},
      "source": [
        "### Categorical Label Conversion\n",
        "\n",
        "Transforms training and test labels into a binary matrix format that is compatible with neural network models by utilizing TensorFlow's `to_categorical` function, which is crucial for multi-class classification assignments. \n"
      ]
    },
    {
      "cell_type": "code",
      "execution_count": 108,
      "metadata": {},
      "outputs": [],
      "source": [
        "# Converting labels to categorical for neural networks\n",
        "y_train_cat = to_categorical(y_train_bal_encoded, num_classes=num_classes_balanced)\n",
        "y_test_cat = to_categorical(y_test_encoded, num_classes=num_classes_balanced)"
      ]
    },
    {
      "cell_type": "code",
      "execution_count": 109,
      "metadata": {},
      "outputs": [
        {
          "name": "stdout",
          "output_type": "stream",
          "text": [
            "X_train_after_balanced shape: (468, 24)\n",
            "y_train_categorical shape: (468, 6)\n",
            "X_test shape: (72, 24)\n",
            "y_test_categorical shape: (72, 6)\n"
          ]
        }
      ],
      "source": [
        "# Ensuring that the data is in the correct shape and format\n",
        "print(\"X_train_after_balanced shape:\", X_train_bal.shape)\n",
        "print(\"y_train_categorical shape:\", y_train_cat.shape)\n",
        "print(\"X_test shape:\", X_test.shape)\n",
        "print(\"y_test_categorical shape:\", y_test_cat.shape)"
      ]
    },
    {
      "cell_type": "markdown",
      "metadata": {},
      "source": [
        "#### Models"
      ]
    },
    {
      "cell_type": "markdown",
      "metadata": {},
      "source": [
        "#### Decision Tree Classifier - Supervised Learning"
      ]
    },
    {
      "cell_type": "code",
      "execution_count": 110,
      "metadata": {},
      "outputs": [],
      "source": [
        "# Decision Tree Classifier\n",
        "dtc_model = DecisionTreeClassifier(random_state=42)\n",
        "dtc_model.fit(X_train_bal, y_train_bal_encoded)\n",
        "y_pred_dtc = dtc_model.predict(X_test)\n",
        "dtc_accuracy = accuracy_score(y_test_encoded, y_pred_dtc)\n",
        "dtc_report = classification_report(y_test_encoded, y_pred_dtc)"
      ]
    },
    {
      "cell_type": "code",
      "execution_count": 111,
      "metadata": {},
      "outputs": [
        {
          "name": "stdout",
          "output_type": "stream",
          "text": [
            "Decision Tree Accuracy: 0.875\n",
            "Decision Tree Classification Report:\n",
            "               precision    recall  f1-score   support\n",
            "\n",
            "           0       0.50      0.67      0.57         6\n",
            "           1       0.85      0.79      0.81        14\n",
            "           2       0.50      0.20      0.29         5\n",
            "           3       0.67      1.00      0.80         2\n",
            "           4       1.00      1.00      1.00        33\n",
            "           5       0.92      1.00      0.96        12\n",
            "\n",
            "    accuracy                           0.88        72\n",
            "   macro avg       0.74      0.78      0.74        72\n",
            "weighted avg       0.87      0.88      0.87        72\n",
            "\n"
          ]
        }
      ],
      "source": [
        "print(\"Decision Tree Accuracy:\", dtc_accuracy)\n",
        "print(\"Decision Tree Classification Report:\\n\", dtc_report)"
      ]
    },
    {
      "cell_type": "code",
      "execution_count": 112,
      "metadata": {},
      "outputs": [
        {
          "data": {
            "image/png": "[encoded data removed]",
            "text/plain": [
              "<Figure size 1000x600 with 2 Axes>"
            ]
          },
          "metadata": {},
          "output_type": "display_data"
        }
      ],
      "source": [
        "# Plot confusion matrix for Decision Tree\n",
        "conf_matrix_dtc = confusion_matrix(y_test_encoded, y_pred_dtc)\n",
        "plt.figure(figsize=(10, 6))\n",
        "sns.heatmap(conf_matrix_dtc, annot=True, fmt='d', cmap='Blues')\n",
        "plt.title('Decision Tree Confusion Matrix')\n",
        "plt.xlabel('Predicted')\n",
        "plt.ylabel('True')\n",
        "plt.show()"
      ]
    },
    {
      "cell_type": "markdown",
      "metadata": {},
      "source": [
        "#### K-Means Clustering - Unsupervised Learning"
      ]
    },
    {
      "cell_type": "code",
      "execution_count": 113,
      "metadata": {},
      "outputs": [
        {
          "name": "stdout",
          "output_type": "stream",
          "text": [
            "K-Means Adjusted Rand Index: 0.43887953610175834\n"
          ]
        }
      ],
      "source": [
        "# K-Means Clustering\n",
        "kmeans_model = KMeans(n_clusters=7, random_state=42, n_init=10)\n",
        "kmeans_model.fit(X_train_bal)\n",
        "y_pred_kmeans = kmeans_model.predict(X_test)\n",
        "kmeans_ari = adjusted_rand_score(y_test_encoded, y_pred_kmeans)\n",
        "\n",
        "print(\"K-Means Adjusted Rand Index:\", kmeans_ari)"
      ]
    },
    {
      "cell_type": "markdown",
      "metadata": {},
      "source": [
        "#### MLP Neural Network "
      ]
    },
    {
      "cell_type": "code",
      "execution_count": 114,
      "metadata": {},
      "outputs": [],
      "source": [
        "# MLP Neural Network\n",
        "mlp_model = Sequential([\n",
        "    Dense(64, activation='relu', input_shape=(X_train_bal.shape[1],)),\n",
        "    Dense(64, activation='relu'),\n",
        "    Dense(num_classes_balanced, activation='softmax')\n",
        "])\n",
        "\n",
        "mlp_model.compile(optimizer='adam', loss='categorical_crossentropy', metrics=['accuracy'])\n"
      ]
    },
    {
      "cell_type": "code",
      "execution_count": 115,
      "metadata": {},
      "outputs": [
        {
          "name": "stdout",
          "output_type": "stream",
          "text": [
            "Epoch 1/50\n",
            "30/30 [==============================] - 1s 14ms/step - loss: 1.6141 - accuracy: 0.4231 - val_loss: 1.2517 - val_accuracy: 0.6667\n",
            "Epoch 2/50\n",
            "30/30 [==============================] - 0s 5ms/step - loss: 1.2156 - accuracy: 0.7457 - val_loss: 0.9095 - val_accuracy: 0.6944\n",
            "Epoch 3/50\n",
            "30/30 [==============================] - 0s 4ms/step - loss: 0.8440 - accuracy: 0.7970 - val_loss: 0.6936 - val_accuracy: 0.7361\n",
            "Epoch 4/50\n",
            "30/30 [==============================] - 0s 4ms/step - loss: 0.5496 - accuracy: 0.9103 - val_loss: 0.5585 - val_accuracy: 0.7917\n",
            "Epoch 5/50\n",
            "30/30 [==============================] - 0s 4ms/step - loss: 0.3576 - accuracy: 0.9274 - val_loss: 0.4676 - val_accuracy: 0.8056\n",
            "Epoch 6/50\n",
            "30/30 [==============================] - 0s 4ms/step - loss: 0.2473 - accuracy: 0.9509 - val_loss: 0.4241 - val_accuracy: 0.8611\n",
            "Epoch 7/50\n",
            "30/30 [==============================] - 0s 6ms/step - loss: 0.1905 - accuracy: 0.9444 - val_loss: 0.4176 - val_accuracy: 0.8611\n",
            "Epoch 8/50\n",
            "30/30 [==============================] - 0s 4ms/step - loss: 0.1573 - accuracy: 0.9551 - val_loss: 0.4229 - val_accuracy: 0.8194\n",
            "Epoch 9/50\n",
            "30/30 [==============================] - 0s 3ms/step - loss: 0.1395 - accuracy: 0.9594 - val_loss: 0.4189 - val_accuracy: 0.8750\n",
            "Epoch 10/50\n",
            "30/30 [==============================] - 0s 4ms/step - loss: 0.1269 - accuracy: 0.9573 - val_loss: 0.4359 - val_accuracy: 0.8056\n",
            "Epoch 11/50\n",
            "30/30 [==============================] - 0s 3ms/step - loss: 0.1166 - accuracy: 0.9658 - val_loss: 0.3995 - val_accuracy: 0.8889\n",
            "Epoch 12/50\n",
            "30/30 [==============================] - 0s 4ms/step - loss: 0.1050 - accuracy: 0.9594 - val_loss: 0.4273 - val_accuracy: 0.8611\n",
            "Epoch 13/50\n",
            "30/30 [==============================] - 0s 4ms/step - loss: 0.0972 - accuracy: 0.9637 - val_loss: 0.4029 - val_accuracy: 0.8889\n",
            "Epoch 14/50\n",
            "30/30 [==============================] - 0s 7ms/step - loss: 0.0927 - accuracy: 0.9658 - val_loss: 0.4090 - val_accuracy: 0.8750\n",
            "Epoch 15/50\n",
            "30/30 [==============================] - 0s 4ms/step - loss: 0.0869 - accuracy: 0.9637 - val_loss: 0.4357 - val_accuracy: 0.8889\n",
            "Epoch 16/50\n",
            "30/30 [==============================] - 0s 4ms/step - loss: 0.0823 - accuracy: 0.9808 - val_loss: 0.4026 - val_accuracy: 0.8750\n",
            "Epoch 17/50\n",
            "30/30 [==============================] - 0s 3ms/step - loss: 0.0804 - accuracy: 0.9744 - val_loss: 0.4333 - val_accuracy: 0.8750\n",
            "Epoch 18/50\n",
            "30/30 [==============================] - 0s 2ms/step - loss: 0.0795 - accuracy: 0.9786 - val_loss: 0.4282 - val_accuracy: 0.8889\n",
            "Epoch 19/50\n",
            "30/30 [==============================] - 0s 3ms/step - loss: 0.0731 - accuracy: 0.9744 - val_loss: 0.4206 - val_accuracy: 0.8750\n",
            "Epoch 20/50\n",
            "30/30 [==============================] - 0s 3ms/step - loss: 0.0720 - accuracy: 0.9701 - val_loss: 0.4677 - val_accuracy: 0.8472\n",
            "Epoch 21/50\n",
            "30/30 [==============================] - 0s 3ms/step - loss: 0.0771 - accuracy: 0.9658 - val_loss: 0.4267 - val_accuracy: 0.8889\n",
            "Epoch 22/50\n",
            "30/30 [==============================] - 0s 2ms/step - loss: 0.0636 - accuracy: 0.9808 - val_loss: 0.4403 - val_accuracy: 0.8750\n",
            "Epoch 23/50\n",
            "30/30 [==============================] - 0s 2ms/step - loss: 0.0595 - accuracy: 0.9850 - val_loss: 0.4540 - val_accuracy: 0.8750\n",
            "Epoch 24/50\n",
            "30/30 [==============================] - 0s 2ms/step - loss: 0.0641 - accuracy: 0.9808 - val_loss: 0.4426 - val_accuracy: 0.8750\n",
            "Epoch 25/50\n",
            "30/30 [==============================] - 0s 2ms/step - loss: 0.0610 - accuracy: 0.9765 - val_loss: 0.4734 - val_accuracy: 0.8750\n",
            "Epoch 26/50\n",
            "30/30 [==============================] - 0s 2ms/step - loss: 0.0575 - accuracy: 0.9872 - val_loss: 0.4706 - val_accuracy: 0.8750\n",
            "Epoch 27/50\n",
            "30/30 [==============================] - 0s 2ms/step - loss: 0.0651 - accuracy: 0.9722 - val_loss: 0.4826 - val_accuracy: 0.8750\n",
            "Epoch 28/50\n",
            "30/30 [==============================] - 0s 3ms/step - loss: 0.0580 - accuracy: 0.9829 - val_loss: 0.4716 - val_accuracy: 0.8750\n",
            "Epoch 29/50\n",
            "30/30 [==============================] - 0s 2ms/step - loss: 0.0564 - accuracy: 0.9893 - val_loss: 0.4526 - val_accuracy: 0.8750\n",
            "Epoch 30/50\n",
            "30/30 [==============================] - 0s 3ms/step - loss: 0.0517 - accuracy: 0.9893 - val_loss: 0.4821 - val_accuracy: 0.8750\n",
            "Epoch 31/50\n",
            "30/30 [==============================] - 0s 7ms/step - loss: 0.0475 - accuracy: 0.9915 - val_loss: 0.4829 - val_accuracy: 0.8750\n",
            "Epoch 32/50\n",
            "30/30 [==============================] - 0s 5ms/step - loss: 0.0532 - accuracy: 0.9829 - val_loss: 0.4888 - val_accuracy: 0.8750\n",
            "Epoch 33/50\n",
            "30/30 [==============================] - 0s 3ms/step - loss: 0.0483 - accuracy: 0.9915 - val_loss: 0.4924 - val_accuracy: 0.8750\n",
            "Epoch 34/50\n",
            "30/30 [==============================] - 0s 4ms/step - loss: 0.0442 - accuracy: 0.9893 - val_loss: 0.4932 - val_accuracy: 0.8750\n",
            "Epoch 35/50\n",
            "30/30 [==============================] - 0s 4ms/step - loss: 0.0458 - accuracy: 0.9915 - val_loss: 0.5010 - val_accuracy: 0.8889\n",
            "Epoch 36/50\n",
            "30/30 [==============================] - 0s 4ms/step - loss: 0.0470 - accuracy: 0.9872 - val_loss: 0.5035 - val_accuracy: 0.8750\n",
            "Epoch 37/50\n",
            "30/30 [==============================] - 0s 4ms/step - loss: 0.0434 - accuracy: 0.9893 - val_loss: 0.5131 - val_accuracy: 0.8750\n",
            "Epoch 38/50\n",
            "30/30 [==============================] - 0s 4ms/step - loss: 0.0446 - accuracy: 0.9893 - val_loss: 0.5105 - val_accuracy: 0.8750\n",
            "Epoch 39/50\n",
            "30/30 [==============================] - 0s 4ms/step - loss: 0.0407 - accuracy: 0.9872 - val_loss: 0.5364 - val_accuracy: 0.8750\n",
            "Epoch 40/50\n",
            "30/30 [==============================] - 0s 4ms/step - loss: 0.0428 - accuracy: 0.9872 - val_loss: 0.5233 - val_accuracy: 0.8750\n",
            "Epoch 41/50\n",
            "30/30 [==============================] - 0s 4ms/step - loss: 0.0446 - accuracy: 0.9850 - val_loss: 0.5299 - val_accuracy: 0.8750\n",
            "Epoch 42/50\n",
            "30/30 [==============================] - 0s 4ms/step - loss: 0.0380 - accuracy: 0.9915 - val_loss: 0.5201 - val_accuracy: 0.8750\n",
            "Epoch 43/50\n",
            "30/30 [==============================] - 0s 4ms/step - loss: 0.0396 - accuracy: 0.9893 - val_loss: 0.5880 - val_accuracy: 0.8194\n",
            "Epoch 44/50\n",
            "30/30 [==============================] - 0s 6ms/step - loss: 0.0422 - accuracy: 0.9872 - val_loss: 0.5368 - val_accuracy: 0.8750\n",
            "Epoch 45/50\n",
            "30/30 [==============================] - 0s 3ms/step - loss: 0.0408 - accuracy: 0.9872 - val_loss: 0.5385 - val_accuracy: 0.8750\n",
            "Epoch 46/50\n",
            "30/30 [==============================] - 0s 3ms/step - loss: 0.0380 - accuracy: 0.9915 - val_loss: 0.5402 - val_accuracy: 0.8750\n",
            "Epoch 47/50\n",
            "30/30 [==============================] - 0s 4ms/step - loss: 0.0371 - accuracy: 0.9915 - val_loss: 0.5399 - val_accuracy: 0.8750\n",
            "Epoch 48/50\n",
            "30/30 [==============================] - 0s 5ms/step - loss: 0.0375 - accuracy: 0.9893 - val_loss: 0.5613 - val_accuracy: 0.8750\n",
            "Epoch 49/50\n",
            "30/30 [==============================] - 0s 4ms/step - loss: 0.0417 - accuracy: 0.9829 - val_loss: 0.5556 - val_accuracy: 0.8750\n",
            "Epoch 50/50\n",
            "30/30 [==============================] - 0s 3ms/step - loss: 0.0328 - accuracy: 0.9915 - val_loss: 0.5540 - val_accuracy: 0.8750\n",
            "3/3 [==============================] - 0s 8ms/step - loss: 0.5540 - accuracy: 0.8750\n",
            "MLP Accuracy: 0.875\n"
          ]
        }
      ],
      "source": [
        "# Training the MLP neural network\n",
        "mlp_model.fit(X_train_bal, y_train_cat, epochs=50, batch_size=16, validation_data=(X_test, y_test_cat))\n",
        "mlp_loss, mlp_accuracy = mlp_model.evaluate(X_test, y_test_cat)\n",
        "print(\"MLP Accuracy:\", mlp_accuracy)"
      ]
    },
    {
      "cell_type": "code",
      "execution_count": 116,
      "metadata": {},
      "outputs": [
        {
          "name": "stdout",
          "output_type": "stream",
          "text": [
            "WARNING:tensorflow:5 out of the last 13 calls to <function Model.make_predict_function.<locals>.predict_function at 0x000001BFED8BE560> triggered tf.function retracing. Tracing is expensive and the excessive number of tracings could be due to (1) creating @tf.function repeatedly in a loop, (2) passing tensors with different shapes, (3) passing Python objects instead of tensors. For (1), please define your @tf.function outside of the loop. For (2), @tf.function has reduce_retracing=True option that can avoid unnecessary retracing. For (3), please refer to https://www.tensorflow.org/guide/function#controlling_retracing and https://www.tensorflow.org/api_docs/python/tf/function for  more details.\n",
            "3/3 [==============================] - 0s 5ms/step\n"
          ]
        },
        {
          "data": {
            "image/png": "[encoded data removed]",
            "text/plain": [
              "<Figure size 1000x600 with 2 Axes>"
            ]
          },
          "metadata": {},
          "output_type": "display_data"
        }
      ],
      "source": [
        "# Plotting confusion matrix for MLP\n",
        "y_pred_mlp = mlp_model.predict(X_test)\n",
        "y_pred_mlp_classes = np.argmax(y_pred_mlp, axis=1)\n",
        "conf_matrix_mlp = confusion_matrix(y_test_encoded, y_pred_mlp_classes)\n",
        "plt.figure(figsize=(10, 6))\n",
        "sns.heatmap(conf_matrix_mlp, annot=True, fmt='d', cmap='Blues')\n",
        "plt.title('MLP Confusion Matrix')\n",
        "plt.xlabel('Predicted')\n",
        "plt.ylabel('True')\n",
        "plt.show()"
      ]
    },
    {
      "cell_type": "markdown",
      "metadata": {},
      "source": [
        "#### CNN"
      ]
    },
    {
      "cell_type": "code",
      "execution_count": 117,
      "metadata": {},
      "outputs": [],
      "source": [
        "# CNN\n",
        "X_train_cnn = X_train_bal.reshape(X_train_bal.shape[0], X_train_bal.shape[1], 1)\n",
        "X_test_cnn = X_test.reshape(X_test.shape[0], X_test.shape[1], 1)\n",
        "\n",
        "cnn_model = Sequential([\n",
        "    Conv1D(32, kernel_size=3, activation='relu', input_shape=(X_train_cnn.shape[1], 1)),\n",
        "    MaxPooling1D(pool_size=2),\n",
        "    Flatten(),\n",
        "    Dense(64, activation='relu'),\n",
        "    Dense(num_classes_balanced, activation='softmax')\n",
        "])\n",
        "\n",
        "cnn_model.compile(optimizer='adam', loss='categorical_crossentropy', metrics=['accuracy'])"
      ]
    },
    {
      "cell_type": "code",
      "execution_count": 118,
      "metadata": {},
      "outputs": [
        {
          "name": "stdout",
          "output_type": "stream",
          "text": [
            "Epoch 1/50\n",
            "30/30 [==============================] - 1s 13ms/step - loss: 1.5918 - accuracy: 0.5812 - val_loss: 1.1569 - val_accuracy: 0.9028\n",
            "Epoch 2/50\n",
            "30/30 [==============================] - 0s 4ms/step - loss: 1.0380 - accuracy: 0.8846 - val_loss: 0.6033 - val_accuracy: 0.8472\n",
            "Epoch 3/50\n",
            "30/30 [==============================] - 0s 5ms/step - loss: 0.5648 - accuracy: 0.9252 - val_loss: 0.4731 - val_accuracy: 0.8472\n",
            "Epoch 4/50\n",
            "30/30 [==============================] - 0s 4ms/step - loss: 0.3477 - accuracy: 0.9359 - val_loss: 0.4818 - val_accuracy: 0.8889\n",
            "Epoch 5/50\n",
            "30/30 [==============================] - 0s 4ms/step - loss: 0.2478 - accuracy: 0.9423 - val_loss: 0.5013 - val_accuracy: 0.8333\n",
            "Epoch 6/50\n",
            "30/30 [==============================] - 0s 5ms/step - loss: 0.1985 - accuracy: 0.9551 - val_loss: 0.4539 - val_accuracy: 0.9167\n",
            "Epoch 7/50\n",
            "30/30 [==============================] - 0s 4ms/step - loss: 0.1663 - accuracy: 0.9530 - val_loss: 0.5084 - val_accuracy: 0.9167\n",
            "Epoch 8/50\n",
            "30/30 [==============================] - 0s 4ms/step - loss: 0.1553 - accuracy: 0.9573 - val_loss: 0.5163 - val_accuracy: 0.8889\n",
            "Epoch 9/50\n",
            "30/30 [==============================] - 0s 4ms/step - loss: 0.1426 - accuracy: 0.9551 - val_loss: 0.5406 - val_accuracy: 0.8889\n",
            "Epoch 10/50\n",
            "30/30 [==============================] - 0s 4ms/step - loss: 0.1288 - accuracy: 0.9615 - val_loss: 0.5234 - val_accuracy: 0.9167\n",
            "Epoch 11/50\n",
            "30/30 [==============================] - 0s 6ms/step - loss: 0.1253 - accuracy: 0.9573 - val_loss: 0.5496 - val_accuracy: 0.8889\n",
            "Epoch 12/50\n",
            "30/30 [==============================] - 0s 4ms/step - loss: 0.1153 - accuracy: 0.9637 - val_loss: 0.5650 - val_accuracy: 0.8611\n",
            "Epoch 13/50\n",
            "30/30 [==============================] - 0s 5ms/step - loss: 0.1112 - accuracy: 0.9594 - val_loss: 0.6459 - val_accuracy: 0.8611\n",
            "Epoch 14/50\n",
            "30/30 [==============================] - 0s 4ms/step - loss: 0.1121 - accuracy: 0.9637 - val_loss: 0.7248 - val_accuracy: 0.7778\n",
            "Epoch 15/50\n",
            "30/30 [==============================] - 0s 4ms/step - loss: 0.1404 - accuracy: 0.9530 - val_loss: 0.6444 - val_accuracy: 0.8750\n",
            "Epoch 16/50\n",
            "30/30 [==============================] - 0s 4ms/step - loss: 0.1151 - accuracy: 0.9551 - val_loss: 0.6064 - val_accuracy: 0.9028\n",
            "Epoch 17/50\n",
            "30/30 [==============================] - 0s 5ms/step - loss: 0.0917 - accuracy: 0.9744 - val_loss: 0.6626 - val_accuracy: 0.8611\n",
            "Epoch 18/50\n",
            "30/30 [==============================] - 0s 4ms/step - loss: 0.0876 - accuracy: 0.9722 - val_loss: 0.6450 - val_accuracy: 0.8750\n",
            "Epoch 19/50\n",
            "30/30 [==============================] - 0s 4ms/step - loss: 0.0960 - accuracy: 0.9637 - val_loss: 0.7077 - val_accuracy: 0.8750\n",
            "Epoch 20/50\n",
            "30/30 [==============================] - 0s 4ms/step - loss: 0.0804 - accuracy: 0.9722 - val_loss: 0.6785 - val_accuracy: 0.8750\n",
            "Epoch 21/50\n",
            "30/30 [==============================] - 0s 4ms/step - loss: 0.0865 - accuracy: 0.9658 - val_loss: 0.6932 - val_accuracy: 0.8750\n",
            "Epoch 22/50\n",
            "30/30 [==============================] - 0s 4ms/step - loss: 0.0896 - accuracy: 0.9658 - val_loss: 0.7231 - val_accuracy: 0.8472\n",
            "Epoch 23/50\n",
            "30/30 [==============================] - 0s 5ms/step - loss: 0.0843 - accuracy: 0.9701 - val_loss: 0.7662 - val_accuracy: 0.8333\n",
            "Epoch 24/50\n",
            "30/30 [==============================] - 0s 5ms/step - loss: 0.0800 - accuracy: 0.9722 - val_loss: 0.7256 - val_accuracy: 0.8750\n",
            "Epoch 25/50\n",
            "30/30 [==============================] - 0s 6ms/step - loss: 0.0829 - accuracy: 0.9594 - val_loss: 0.7596 - val_accuracy: 0.8750\n",
            "Epoch 26/50\n",
            "30/30 [==============================] - 0s 4ms/step - loss: 0.0794 - accuracy: 0.9658 - val_loss: 0.7385 - val_accuracy: 0.8750\n",
            "Epoch 27/50\n",
            "30/30 [==============================] - 0s 4ms/step - loss: 0.0758 - accuracy: 0.9744 - val_loss: 0.7397 - val_accuracy: 0.8750\n",
            "Epoch 28/50\n",
            "30/30 [==============================] - 0s 4ms/step - loss: 0.0742 - accuracy: 0.9744 - val_loss: 0.7524 - val_accuracy: 0.8611\n",
            "Epoch 29/50\n",
            "30/30 [==============================] - 0s 4ms/step - loss: 0.0599 - accuracy: 0.9808 - val_loss: 0.7918 - val_accuracy: 0.8750\n",
            "Epoch 30/50\n",
            "30/30 [==============================] - 0s 4ms/step - loss: 0.0706 - accuracy: 0.9701 - val_loss: 0.8283 - val_accuracy: 0.8750\n",
            "Epoch 31/50\n",
            "30/30 [==============================] - 0s 4ms/step - loss: 0.0615 - accuracy: 0.9786 - val_loss: 0.8417 - val_accuracy: 0.8750\n",
            "Epoch 32/50\n",
            "30/30 [==============================] - 0s 4ms/step - loss: 0.0700 - accuracy: 0.9744 - val_loss: 0.8498 - val_accuracy: 0.8611\n",
            "Epoch 33/50\n",
            "30/30 [==============================] - 0s 4ms/step - loss: 0.0702 - accuracy: 0.9722 - val_loss: 0.8821 - val_accuracy: 0.8472\n",
            "Epoch 34/50\n",
            "30/30 [==============================] - 0s 3ms/step - loss: 0.0739 - accuracy: 0.9744 - val_loss: 0.8426 - val_accuracy: 0.8750\n",
            "Epoch 35/50\n",
            "30/30 [==============================] - 0s 4ms/step - loss: 0.1088 - accuracy: 0.9637 - val_loss: 0.8466 - val_accuracy: 0.8889\n",
            "Epoch 36/50\n",
            "30/30 [==============================] - 0s 4ms/step - loss: 0.0841 - accuracy: 0.9722 - val_loss: 0.8572 - val_accuracy: 0.8750\n",
            "Epoch 37/50\n",
            "30/30 [==============================] - 0s 4ms/step - loss: 0.0602 - accuracy: 0.9786 - val_loss: 0.8985 - val_accuracy: 0.8750\n",
            "Epoch 38/50\n",
            "30/30 [==============================] - 0s 4ms/step - loss: 0.0520 - accuracy: 0.9915 - val_loss: 0.9093 - val_accuracy: 0.8750\n",
            "Epoch 39/50\n",
            "30/30 [==============================] - 0s 6ms/step - loss: 0.0519 - accuracy: 0.9829 - val_loss: 0.9145 - val_accuracy: 0.8611\n",
            "Epoch 40/50\n",
            "30/30 [==============================] - 0s 4ms/step - loss: 0.0532 - accuracy: 0.9850 - val_loss: 0.9142 - val_accuracy: 0.8750\n",
            "Epoch 41/50\n",
            "30/30 [==============================] - 0s 3ms/step - loss: 0.0547 - accuracy: 0.9850 - val_loss: 0.9680 - val_accuracy: 0.8472\n",
            "Epoch 42/50\n",
            "30/30 [==============================] - 0s 4ms/step - loss: 0.0559 - accuracy: 0.9850 - val_loss: 0.9243 - val_accuracy: 0.8750\n",
            "Epoch 43/50\n",
            "30/30 [==============================] - 0s 4ms/step - loss: 0.0528 - accuracy: 0.9808 - val_loss: 0.9752 - val_accuracy: 0.8333\n",
            "Epoch 44/50\n",
            "30/30 [==============================] - 0s 4ms/step - loss: 0.0530 - accuracy: 0.9872 - val_loss: 0.9463 - val_accuracy: 0.8750\n",
            "Epoch 45/50\n",
            "30/30 [==============================] - 0s 4ms/step - loss: 0.0498 - accuracy: 0.9893 - val_loss: 1.0289 - val_accuracy: 0.8194\n",
            "Epoch 46/50\n",
            "30/30 [==============================] - 0s 4ms/step - loss: 0.0487 - accuracy: 0.9850 - val_loss: 0.9770 - val_accuracy: 0.8750\n",
            "Epoch 47/50\n",
            "30/30 [==============================] - 0s 5ms/step - loss: 0.0559 - accuracy: 0.9808 - val_loss: 0.9875 - val_accuracy: 0.8750\n",
            "Epoch 48/50\n",
            "30/30 [==============================] - 0s 5ms/step - loss: 0.0496 - accuracy: 0.9850 - val_loss: 1.0316 - val_accuracy: 0.8750\n",
            "Epoch 49/50\n",
            "30/30 [==============================] - 0s 4ms/step - loss: 0.0462 - accuracy: 0.9872 - val_loss: 1.0938 - val_accuracy: 0.8194\n",
            "Epoch 50/50\n",
            "30/30 [==============================] - 0s 4ms/step - loss: 0.0504 - accuracy: 0.9850 - val_loss: 1.0019 - val_accuracy: 0.8750\n",
            "3/3 [==============================] - 0s 8ms/step - loss: 1.0019 - accuracy: 0.8750\n",
            "CNN Accuracy: 0.875\n"
          ]
        }
      ],
      "source": [
        "# Training the CNN neural network\n",
        "cnn_model.fit(X_train_cnn, y_train_cat, epochs=50, batch_size=16, validation_data=(X_test_cnn, y_test_cat))\n",
        "cnn_loss, cnn_accuracy = cnn_model.evaluate(X_test_cnn, y_test_cat)\n",
        "print(\"CNN Accuracy:\", cnn_accuracy)\n"
      ]
    },
    {
      "cell_type": "code",
      "execution_count": 119,
      "metadata": {},
      "outputs": [
        {
          "name": "stdout",
          "output_type": "stream",
          "text": [
            "WARNING:tensorflow:5 out of the last 13 calls to <function Model.make_predict_function.<locals>.predict_function at 0x000001BFEF0D0700> triggered tf.function retracing. Tracing is expensive and the excessive number of tracings could be due to (1) creating @tf.function repeatedly in a loop, (2) passing tensors with different shapes, (3) passing Python objects instead of tensors. For (1), please define your @tf.function outside of the loop. For (2), @tf.function has reduce_retracing=True option that can avoid unnecessary retracing. For (3), please refer to https://www.tensorflow.org/guide/function#controlling_retracing and https://www.tensorflow.org/api_docs/python/tf/function for  more details.\n",
            "3/3 [==============================] - 0s 449us/step\n"
          ]
        },
        {
          "data": {
            "image/png": "[encoded data removed]",
            "text/plain": [
              "<Figure size 1000x600 with 2 Axes>"
            ]
          },
          "metadata": {},
          "output_type": "display_data"
        }
      ],
      "source": [
        "# Plotting confusion matrix for CNN\n",
        "y_pred_cnn = cnn_model.predict(X_test_cnn)\n",
        "y_pred_cnn_classes = np.argmax(y_pred_cnn, axis=1)\n",
        "conf_matrix_cnn = confusion_matrix(y_test_encoded, y_pred_cnn_classes)\n",
        "plt.figure(figsize=(10, 6))\n",
        "sns.heatmap(conf_matrix_cnn, annot=True, fmt='d', cmap='Blues')\n",
        "plt.title('CNN Confusion Matrix')\n",
        "plt.xlabel('Predicted')\n",
        "plt.ylabel('True')\n",
        "plt.show()"
      ]
    },
    {
      "cell_type": "markdown",
      "metadata": {},
      "source": [
        "#### Comaprison of the four models using Accuracy"
      ]
    },
    {
      "cell_type": "code",
      "execution_count": 120,
      "metadata": {},
      "outputs": [
        {
          "data": {
            "image/png": "[encoded data removed]",
            "text/plain": [
              "<Figure size 1000x600 with 1 Axes>"
            ]
          },
          "metadata": {},
          "output_type": "display_data"
        }
      ],
      "source": [
        "# Accuracy comparison\n",
        "models_to_compare = ['Decision Tree', 'K-Means', 'MLP', 'CNN']\n",
        "accuracies = [dtc_accuracy, kmeans_ari, mlp_accuracy, cnn_accuracy]\n",
        "\n",
        "plt.figure(figsize=(10, 6))\n",
        "sns.barplot(x=models_to_compare, y=accuracies, palette='viridis')\n",
        "plt.title('Model Accuracy Comparison')\n",
        "plt.xlabel('Model')\n",
        "plt.ylabel('Accuracy')\n",
        "plt.show()"
      ]
    },
    {
      "cell_type": "code",
      "execution_count": null,
      "metadata": {},
      "outputs": [],
      "source": []
    }
  ],
  "metadata": {
    "colab": {
      "provenance": []
    },
    "kernelspec": {
      "display_name": "Python 3",
      "name": "python3"
    },
    "language_info": {
      "codemirror_mode": {
        "name": "ipython",
        "version": 3
      },
      "file_extension": ".py",
      "mimetype": "text/x-python",
      "name": "python",
      "nbconvert_exporter": "python",
      "pygments_lexer": "ipython3",
      "version": "3.10.8"
    }
  },
  "nbformat": 4,
  "nbformat_minor": 0
}
